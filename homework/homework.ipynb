{
 "cells": [
  {
   "cell_type": "code",
   "execution_count": null,
   "id": "0b915c8e",
   "metadata": {},
   "outputs": [],
   "source": [
    "import pandas as pd\n",
    "import numpy as np\n",
    "import json\n",
    "import gzip\n",
    "import pickle\n",
    "import os\n",
    "\n",
    "from sklearn.model_selection import GridSearchCV, KFold\n",
    "from sklearn.pipeline import Pipeline\n",
    "from sklearn.compose import ColumnTransformer\n",
    "from sklearn.linear_model import LinearRegression\n",
    "from sklearn.feature_selection import SelectKBest, f_regression\n",
    "from sklearn.preprocessing import OneHotEncoder, MinMaxScaler\n",
    "from sklearn.metrics import r2_score, mean_squared_error, median_absolute_error"
   ]
  },
  {
   "cell_type": "code",
   "execution_count": null,
   "id": "ad727a1b",
   "metadata": {},
   "outputs": [],
   "source": [
    "train_data = pd.read_csv(\"../files/input/train_data.csv.zip\", index_col=False, compression=\"zip\")\n",
    "test_data = pd.read_csv(\"../files/input/test_data.csv.zip\", index_col=False, compression=\"zip\")\n",
    "\n",
    "train_data[\"Age\"] = 2021 - train_data[\"Year\"]\n",
    "test_data[\"Age\"] = 2021 - test_data[\"Year\"]\n",
    "\n",
    "train_data.drop([\"Year\", \"Car_Name\"], axis=1, inplace=True)\n",
    "test_data.drop([\"Year\", \"Car_Name\"], axis=1, inplace=True)\n",
    "\n",
    "train_data.head()"
   ]
  },
  {
   "cell_type": "code",
   "execution_count": null,
   "id": "5e7d0d3a",
   "metadata": {},
   "outputs": [],
   "source": [
    "y_train = train_data[\"Present_Price\"]\n",
    "y_test = test_data[\"Present_Price\"]\n",
    "\n",
    "x_train = train_data.drop([\"Present_Price\"], axis=1)\n",
    "x_test = test_data.drop([\"Present_Price\"], axis=1)"
   ]
  },
  {
   "cell_type": "code",
   "execution_count": null,
   "id": "b6df7433",
   "metadata": {},
   "outputs": [],
   "source": [
    "categorical_features = ['Fuel_Type','Selling_type','Transmission']\n",
    "numeric_features = [col for col in x_train.columns if col not in categorical_features]\n",
    "\n",
    "preprocessor = ColumnTransformer(\n",
    "    transformers=[\n",
    "        ('cat', OneHotEncoder(), categorical_features),\n",
    "        ('scaler',MinMaxScaler(), numeric_features),\n",
    "    ],\n",
    ")\n",
    "\n",
    "pipeline = Pipeline(steps=[\n",
    "    (\"preprocessor\", preprocessor),\n",
    "    (\"selectk\", SelectKBest(score_func=f_regression)), \n",
    "    (\"regressor\", LinearRegression())\n",
    "])"
   ]
  },
  {
   "cell_type": "code",
   "execution_count": null,
   "id": "cd06a71d",
   "metadata": {},
   "outputs": [],
   "source": [
    "param_grid = {\n",
    "    'selectk__k': range(1, 15),\n",
    "    'regressor__fit_intercept': [True, False],\n",
    "    'regressor__positive': [True, False]\n",
    "}\n",
    "\n",
    "grid_search = GridSearchCV(\n",
    "    pipeline,\n",
    "    param_grid,\n",
    "    cv=10,\n",
    "    scoring=\"neg_mean_absolute_error\",\n",
    "    n_jobs=-1,\n",
    "    )\n",
    "\n",
    "grid_search.fit(x_train, y_train)"
   ]
  },
  {
   "cell_type": "code",
   "execution_count": null,
   "id": "969c57b1",
   "metadata": {},
   "outputs": [],
   "source": [
    "os.makedirs(\"../files/models\", exist_ok=True)\n",
    "with gzip.open(\"../files/models/model.pkl.gz\", \"wb\") as f:\n",
    "    pickle.dump(grid_search, f)"
   ]
  }
 ],
 "metadata": {
  "language_info": {
   "name": "python"
  }
 },
 "nbformat": 4,
 "nbformat_minor": 5
}
